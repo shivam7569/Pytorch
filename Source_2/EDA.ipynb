{
 "cells": [
  {
   "cell_type": "code",
   "execution_count": 1,
   "id": "e2751967",
   "metadata": {},
   "outputs": [],
   "source": [
    "import numpy as np\n",
    "import pandas as pd\n",
    "import seaborn as sns\n",
    "from scipy.stats import skew"
   ]
  },
  {
   "cell_type": "code",
   "execution_count": 2,
   "id": "ed1e883c",
   "metadata": {},
   "outputs": [
    {
     "data": {
      "text/html": [
       "<div>\n",
       "<style scoped>\n",
       "    .dataframe tbody tr th:only-of-type {\n",
       "        vertical-align: middle;\n",
       "    }\n",
       "\n",
       "    .dataframe tbody tr th {\n",
       "        vertical-align: top;\n",
       "    }\n",
       "\n",
       "    .dataframe thead th {\n",
       "        text-align: right;\n",
       "    }\n",
       "</style>\n",
       "<table border=\"1\" class=\"dataframe\">\n",
       "  <thead>\n",
       "    <tr style=\"text-align: right;\">\n",
       "      <th></th>\n",
       "      <th>age</th>\n",
       "      <th>sex</th>\n",
       "      <th>bmi</th>\n",
       "      <th>children</th>\n",
       "      <th>smoker</th>\n",
       "      <th>region</th>\n",
       "      <th>charges</th>\n",
       "    </tr>\n",
       "  </thead>\n",
       "  <tbody>\n",
       "    <tr>\n",
       "      <th>0</th>\n",
       "      <td>19</td>\n",
       "      <td>female</td>\n",
       "      <td>27.900</td>\n",
       "      <td>0</td>\n",
       "      <td>yes</td>\n",
       "      <td>southwest</td>\n",
       "      <td>16884.92400</td>\n",
       "    </tr>\n",
       "    <tr>\n",
       "      <th>1</th>\n",
       "      <td>18</td>\n",
       "      <td>male</td>\n",
       "      <td>33.770</td>\n",
       "      <td>1</td>\n",
       "      <td>no</td>\n",
       "      <td>southeast</td>\n",
       "      <td>1725.55230</td>\n",
       "    </tr>\n",
       "    <tr>\n",
       "      <th>2</th>\n",
       "      <td>28</td>\n",
       "      <td>male</td>\n",
       "      <td>33.000</td>\n",
       "      <td>3</td>\n",
       "      <td>no</td>\n",
       "      <td>southeast</td>\n",
       "      <td>4449.46200</td>\n",
       "    </tr>\n",
       "    <tr>\n",
       "      <th>3</th>\n",
       "      <td>33</td>\n",
       "      <td>male</td>\n",
       "      <td>22.705</td>\n",
       "      <td>0</td>\n",
       "      <td>no</td>\n",
       "      <td>northwest</td>\n",
       "      <td>21984.47061</td>\n",
       "    </tr>\n",
       "    <tr>\n",
       "      <th>4</th>\n",
       "      <td>32</td>\n",
       "      <td>male</td>\n",
       "      <td>28.880</td>\n",
       "      <td>0</td>\n",
       "      <td>no</td>\n",
       "      <td>northwest</td>\n",
       "      <td>3866.85520</td>\n",
       "    </tr>\n",
       "  </tbody>\n",
       "</table>\n",
       "</div>"
      ],
      "text/plain": [
       "   age     sex     bmi  children smoker     region      charges\n",
       "0   19  female  27.900         0    yes  southwest  16884.92400\n",
       "1   18    male  33.770         1     no  southeast   1725.55230\n",
       "2   28    male  33.000         3     no  southeast   4449.46200\n",
       "3   33    male  22.705         0     no  northwest  21984.47061\n",
       "4   32    male  28.880         0     no  northwest   3866.85520"
      ]
     },
     "execution_count": 2,
     "metadata": {},
     "output_type": "execute_result"
    }
   ],
   "source": [
    "df = pd.read_csv(\"../datasets/insurance.csv\")\n",
    "df.head()"
   ]
  },
  {
   "cell_type": "markdown",
   "id": "4b070156",
   "metadata": {},
   "source": [
    "#### **GENERAL INFORMATION**"
   ]
  },
  {
   "cell_type": "code",
   "execution_count": 3,
   "id": "24b70929",
   "metadata": {},
   "outputs": [
    {
     "data": {
      "text/plain": [
       "(1338, 7)"
      ]
     },
     "execution_count": 3,
     "metadata": {},
     "output_type": "execute_result"
    }
   ],
   "source": [
    "df.shape"
   ]
  },
  {
   "cell_type": "code",
   "execution_count": 4,
   "id": "055be9f8",
   "metadata": {},
   "outputs": [
    {
     "name": "stdout",
     "output_type": "stream",
     "text": [
      "Counts of each attribute, to give an insight if there is/are any missing values \n",
      "\n",
      "age: 1338\n",
      "sex: 1338\n",
      "bmi: 1338\n",
      "children: 1338\n",
      "smoker: 1338\n",
      "region: 1338\n",
      "charges: 1338\n",
      "\n",
      "If count is found to be mismatched with total records then it indicated the presense of missing values\n",
      "Count of null values in each attributes \n",
      "\n",
      "age: 0\n",
      "sex: 0\n",
      "bmi: 0\n",
      "children: 0\n",
      "smoker: 0\n",
      "region: 0\n",
      "charges: 0\n"
     ]
    }
   ],
   "source": [
    "print(\"Counts of each attribute, to give an insight if there is/are any missing values \\n\")\n",
    "for c in df.columns:\n",
    "    print(f\"{c}: {df[c].count()}\")\n",
    "    \n",
    "print(f\"\\nIf count is found to be mismatched with total records then it indicated the presense of missing values\")\n",
    "print(f\"Count of null values in each attributes \\n\")\n",
    "for c in df.columns:\n",
    "    print(f\"{c}: {df[c].isnull().sum()}\")"
   ]
  },
  {
   "cell_type": "code",
   "execution_count": 5,
   "id": "064b6314",
   "metadata": {},
   "outputs": [
    {
     "name": "stdout",
     "output_type": "stream",
     "text": [
      "Number of unique values of each attribute, specifically useful in categorical attributes \n",
      "\n",
      "age: 47\n",
      "sex: 2\n",
      "bmi: 548\n",
      "children: 6\n",
      "smoker: 2\n",
      "region: 4\n",
      "charges: 1337\n"
     ]
    }
   ],
   "source": [
    "print(\"Number of unique values of each attribute, specifically useful in categorical attributes \\n\")\n",
    "for c in df.columns:\n",
    "    print(f\"{c}: {df[c].nunique()}\")"
   ]
  },
  {
   "cell_type": "code",
   "execution_count": 6,
   "id": "b32ed81c",
   "metadata": {},
   "outputs": [
    {
     "name": "stdout",
     "output_type": "stream",
     "text": [
      "Data type of each attribute, helpful in determining which are the categorical attributes \n",
      "\n",
      "age: int64\n",
      "sex: object\n",
      "bmi: float64\n",
      "children: int64\n",
      "smoker: object\n",
      "region: object\n",
      "charges: float64\n",
      "\n",
      "Another way to differentiate between numeric and categorical attributes \n",
      "\n",
      "age: True\n",
      "sex: False\n",
      "bmi: True\n",
      "children: True\n",
      "smoker: False\n",
      "region: False\n",
      "charges: True\n"
     ]
    }
   ],
   "source": [
    "print(\"Data type of each attribute, helpful in determining which are the categorical attributes \\n\")\n",
    "for c in df.columns:\n",
    "    print(f\"{c}: {df[c].dtype}\")\n",
    "    \n",
    "print(f\"\\nAnother way to differentiate between numeric and categorical attributes \\n\")\n",
    "for c in df.columns:\n",
    "    print(f\"{c}: {pd.api.types.is_numeric_dtype(df[c])}\")"
   ]
  },
  {
   "cell_type": "markdown",
   "id": "fe054900",
   "metadata": {},
   "source": [
    "#### **Range and Boundaries**"
   ]
  },
  {
   "cell_type": "code",
   "execution_count": 7,
   "id": "f949475c",
   "metadata": {},
   "outputs": [
    {
     "name": "stdout",
     "output_type": "stream",
     "text": [
      "Maximum of each attribute \n",
      "\n",
      "age: 64\n",
      "bmi: 53.13\n",
      "children: 5\n",
      "charges: 63770.42801\n"
     ]
    }
   ],
   "source": [
    "print(f\"Maximum of each attribute \\n\")\n",
    "for c in df.columns:\n",
    "    if pd.api.types.is_numeric_dtype(df[c]):\n",
    "        print(f\"{c}: {df[c].max()}\")"
   ]
  },
  {
   "cell_type": "code",
   "execution_count": 8,
   "id": "b625dfed",
   "metadata": {},
   "outputs": [
    {
     "name": "stdout",
     "output_type": "stream",
     "text": [
      "Minimum of each attribute \n",
      "\n",
      "age: 18\n",
      "bmi: 15.96\n",
      "children: 0\n",
      "charges: 1121.8739\n"
     ]
    }
   ],
   "source": [
    "print(f\"Minimum of each attribute \\n\")\n",
    "for c in df.columns:\n",
    "    if pd.api.types.is_numeric_dtype(df[c]):\n",
    "        print(f\"{c}: {df[c].min()}\")"
   ]
  },
  {
   "cell_type": "code",
   "execution_count": 9,
   "id": "6ba75b1d",
   "metadata": {},
   "outputs": [
    {
     "name": "stdout",
     "output_type": "stream",
     "text": [
      "First quantile of each attribute \n",
      "\n",
      "age: 27.0\n",
      "bmi: 26.29625\n",
      "children: 0.0\n",
      "charges: 4740.28715\n"
     ]
    }
   ],
   "source": [
    "print(f\"First quantile of each attribute \\n\")\n",
    "for c in df.columns:\n",
    "    if pd.api.types.is_numeric_dtype(df[c]):\n",
    "        print(f\"{c}: {df[c].quantile(0.25)}\")"
   ]
  },
  {
   "cell_type": "code",
   "execution_count": 10,
   "id": "4e3e6b98",
   "metadata": {},
   "outputs": [
    {
     "name": "stdout",
     "output_type": "stream",
     "text": [
      "Second quantile of each attribute \n",
      "\n",
      "age: 39.0\n",
      "bmi: 30.4\n",
      "children: 1.0\n",
      "charges: 9382.033\n"
     ]
    }
   ],
   "source": [
    "print(f\"Second quantile of each attribute \\n\")\n",
    "for c in df.columns:\n",
    "    if pd.api.types.is_numeric_dtype(df[c]):\n",
    "        print(f\"{c}: {df[c].quantile(0.5)}\")"
   ]
  },
  {
   "cell_type": "code",
   "execution_count": 11,
   "id": "f22024fe",
   "metadata": {},
   "outputs": [
    {
     "name": "stdout",
     "output_type": "stream",
     "text": [
      "Third quantile of each attribute \n",
      "\n",
      "age: 51.0\n",
      "bmi: 34.69375\n",
      "children: 2.0\n",
      "charges: 16639.912515\n"
     ]
    }
   ],
   "source": [
    "print(f\"Third quantile of each attribute \\n\")\n",
    "for c in df.columns:\n",
    "    if pd.api.types.is_numeric_dtype(df[c]):\n",
    "        print(f\"{c}: {df[c].quantile(0.75)}\")"
   ]
  },
  {
   "cell_type": "code",
   "execution_count": 12,
   "id": "7a549ec4",
   "metadata": {},
   "outputs": [
    {
     "name": "stdout",
     "output_type": "stream",
     "text": [
      "Fourth quantile of each attribute \n",
      "\n",
      "age: 64.0\n",
      "bmi: 53.13\n",
      "children: 5.0\n",
      "charges: 63770.42801\n"
     ]
    }
   ],
   "source": [
    "print(f\"Fourth quantile of each attribute \\n\")\n",
    "for c in df.columns:\n",
    "    if pd.api.types.is_numeric_dtype(df[c]):\n",
    "        print(f\"{c}: {df[c].quantile(1.0)}\")"
   ]
  },
  {
   "cell_type": "code",
   "execution_count": 13,
   "id": "b242f25a",
   "metadata": {},
   "outputs": [
    {
     "name": "stdout",
     "output_type": "stream",
     "text": [
      "Median of each attribute \n",
      "\n",
      "age: 39.0\n",
      "bmi: 30.4\n",
      "children: 1.0\n",
      "charges: 9382.033\n"
     ]
    }
   ],
   "source": [
    "print(f\"Median of each attribute \\n\")\n",
    "for c in df.columns:\n",
    "    if pd.api.types.is_numeric_dtype(df[c]):\n",
    "        print(f\"{c}: {df[c].median()}\")"
   ]
  },
  {
   "cell_type": "code",
   "execution_count": 14,
   "id": "ed3025ea",
   "metadata": {},
   "outputs": [
    {
     "name": "stdout",
     "output_type": "stream",
     "text": [
      "Mode of each attribute \n",
      "\n",
      "age: 18\n",
      "bmi: 32.3\n",
      "children: 0\n",
      "charges: 1639.5631\n"
     ]
    }
   ],
   "source": [
    "print(f\"Mode of each attribute \\n\")\n",
    "for c in df.columns:\n",
    "    if pd.api.types.is_numeric_dtype(df[c]):\n",
    "        print(f\"{c}: {df[c].mode().values[0]}\")"
   ]
  },
  {
   "cell_type": "code",
   "execution_count": 15,
   "id": "303cef8d",
   "metadata": {},
   "outputs": [
    {
     "name": "stdout",
     "output_type": "stream",
     "text": [
      "Standard deviation of each attribute \n",
      "\n",
      "age: Using pandas --- 14.050; Using numpy --- 14.04470903895454\n",
      "bmi: Using pandas --- 6.098; Using numpy --- 6.095907641589428\n",
      "children: Using pandas --- 1.205; Using numpy --- 1.2050421724928453\n",
      "charges: Using pandas --- 12110.011; Using numpy --- 12105.484975561605\n",
      "\n",
      "Standard deviations using pandas and numpy do not match because pandas assumes data to be a sample by default while numpy assumes it be a population\n"
     ]
    }
   ],
   "source": [
    "print(f\"Standard deviation of each attribute \\n\")\n",
    "for c in df.columns:\n",
    "    if pd.api.types.is_numeric_dtype(df[c]):\n",
    "        print(f\"{c}: Using pandas --- {df[c].std():.3f}; Using numpy --- {np.std(df[c])}\")\n",
    "        \n",
    "print(f\"\\nStandard deviations using pandas and numpy do not match because pandas assumes data to be a sample by default while numpy assumes it be a population\")"
   ]
  },
  {
   "cell_type": "code",
   "execution_count": 16,
   "id": "fcf63f8c",
   "metadata": {},
   "outputs": [
    {
     "name": "stdout",
     "output_type": "stream",
     "text": [
      "Skewness of each attribute, skewness effect the performance of models. A good rule of thumb is: if skewness is within [-1, 1] then it's not a point of concern \n",
      "\n",
      "age: 0.055672515652991854\n",
      "bmi: 0.28404711059874477\n",
      "children: 0.9383804401702414\n",
      "charges: 1.5158796580240383\n"
     ]
    }
   ],
   "source": [
    "print(f\"Skewness of each attribute, skewness effect the performance of models. A good rule of thumb is: if skewness is within [-1, 1] then it's not a point of concern \\n\")\n",
    "for c in df.columns:\n",
    "    if pd.api.types.is_numeric_dtype(df[c]):\n",
    "        print(f\"{c}: {skew(df[c], bias=False)}\")"
   ]
  },
  {
   "cell_type": "code",
   "execution_count": 17,
   "id": "ddc714f8",
   "metadata": {},
   "outputs": [
    {
     "name": "stdout",
     "output_type": "stream",
     "text": [
      "Shows the abnormality in charges, it is significantly right skewed \n",
      "\n"
     ]
    },
    {
     "data": {
      "image/png": "[encoded data removed]",
      "text/plain": [
       "<Figure size 360x360 with 1 Axes>"
      ]
     },
     "metadata": {
      "needs_background": "light"
     },
     "output_type": "display_data"
    }
   ],
   "source": [
    "print(\"Shows the abnormality in charges, it is significantly right skewed \\n\")\n",
    "_ = sns.displot(data=df.charges, kind=\"kde\")"
   ]
  },
  {
   "cell_type": "markdown",
   "id": "da96e657",
   "metadata": {},
   "source": [
    "#### Covariance and Correlation\n",
    "\n",
    "Covariance signifies the direction of the linear relationship between the two variables. "
   ]
  },
  {
   "cell_type": "code",
   "execution_count": null,
   "id": "17dc750c",
   "metadata": {},
   "outputs": [],
   "source": []
  },
  {
   "cell_type": "code",
   "execution_count": null,
   "id": "6de76e58",
   "metadata": {},
   "outputs": [],
   "source": []
  }
 ],
 "metadata": {
  "kernelspec": {
   "display_name": "Python 3 (ipykernel)",
   "language": "python",
   "name": "python3"
  },
  "language_info": {
   "codemirror_mode": {
    "name": "ipython",
    "version": 3
   },
   "file_extension": ".py",
   "mimetype": "text/x-python",
   "name": "python",
   "nbconvert_exporter": "python",
   "pygments_lexer": "ipython3",
   "version": "3.9.7"
  }
 },
 "nbformat": 4,
 "nbformat_minor": 5
}
